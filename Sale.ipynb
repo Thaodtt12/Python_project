{
 "cells": [
  {
   "cell_type": "code",
   "execution_count": 138,
   "id": "21642f44",
   "metadata": {},
   "outputs": [],
   "source": [
    "import pandas as pd\n",
    "import numpy as np\n",
    "import matplotlib.pyplot as plt\n",
    "import seaborn as sns\n",
    "sns.set()"
   ]
  },
  {
   "cell_type": "code",
   "execution_count": 139,
   "id": "badae45a",
   "metadata": {},
   "outputs": [
    {
     "data": {
      "text/html": [
       "<div>\n",
       "<style scoped>\n",
       "    .dataframe tbody tr th:only-of-type {\n",
       "        vertical-align: middle;\n",
       "    }\n",
       "\n",
       "    .dataframe tbody tr th {\n",
       "        vertical-align: top;\n",
       "    }\n",
       "\n",
       "    .dataframe thead th {\n",
       "        text-align: right;\n",
       "    }\n",
       "</style>\n",
       "<table border=\"1\" class=\"dataframe\">\n",
       "  <thead>\n",
       "    <tr style=\"text-align: right;\">\n",
       "      <th></th>\n",
       "      <th>date</th>\n",
       "      <th>date_block_num</th>\n",
       "      <th>shop_id</th>\n",
       "      <th>item_id</th>\n",
       "      <th>item_price</th>\n",
       "      <th>item_cnt_day</th>\n",
       "      <th>total_turnover</th>\n",
       "    </tr>\n",
       "  </thead>\n",
       "  <tbody>\n",
       "    <tr>\n",
       "      <th>0</th>\n",
       "      <td>02.01.2013</td>\n",
       "      <td>0</td>\n",
       "      <td>59</td>\n",
       "      <td>22154</td>\n",
       "      <td>999.00</td>\n",
       "      <td>1.0</td>\n",
       "      <td>999.00</td>\n",
       "    </tr>\n",
       "    <tr>\n",
       "      <th>1</th>\n",
       "      <td>03.01.2013</td>\n",
       "      <td>0</td>\n",
       "      <td>25</td>\n",
       "      <td>2552</td>\n",
       "      <td>899.00</td>\n",
       "      <td>1.0</td>\n",
       "      <td>899.00</td>\n",
       "    </tr>\n",
       "    <tr>\n",
       "      <th>2</th>\n",
       "      <td>05.01.2013</td>\n",
       "      <td>0</td>\n",
       "      <td>25</td>\n",
       "      <td>2552</td>\n",
       "      <td>899.00</td>\n",
       "      <td>-1.0</td>\n",
       "      <td>-899.00</td>\n",
       "    </tr>\n",
       "    <tr>\n",
       "      <th>3</th>\n",
       "      <td>06.01.2013</td>\n",
       "      <td>0</td>\n",
       "      <td>25</td>\n",
       "      <td>2554</td>\n",
       "      <td>1709.05</td>\n",
       "      <td>1.0</td>\n",
       "      <td>1709.05</td>\n",
       "    </tr>\n",
       "    <tr>\n",
       "      <th>4</th>\n",
       "      <td>15.01.2013</td>\n",
       "      <td>0</td>\n",
       "      <td>25</td>\n",
       "      <td>2555</td>\n",
       "      <td>1099.00</td>\n",
       "      <td>1.0</td>\n",
       "      <td>1099.00</td>\n",
       "    </tr>\n",
       "    <tr>\n",
       "      <th>...</th>\n",
       "      <td>...</td>\n",
       "      <td>...</td>\n",
       "      <td>...</td>\n",
       "      <td>...</td>\n",
       "      <td>...</td>\n",
       "      <td>...</td>\n",
       "      <td>...</td>\n",
       "    </tr>\n",
       "    <tr>\n",
       "      <th>2935844</th>\n",
       "      <td>10.10.2015</td>\n",
       "      <td>33</td>\n",
       "      <td>25</td>\n",
       "      <td>7409</td>\n",
       "      <td>299.00</td>\n",
       "      <td>1.0</td>\n",
       "      <td>299.00</td>\n",
       "    </tr>\n",
       "    <tr>\n",
       "      <th>2935845</th>\n",
       "      <td>09.10.2015</td>\n",
       "      <td>33</td>\n",
       "      <td>25</td>\n",
       "      <td>7460</td>\n",
       "      <td>299.00</td>\n",
       "      <td>1.0</td>\n",
       "      <td>299.00</td>\n",
       "    </tr>\n",
       "    <tr>\n",
       "      <th>2935846</th>\n",
       "      <td>14.10.2015</td>\n",
       "      <td>33</td>\n",
       "      <td>25</td>\n",
       "      <td>7459</td>\n",
       "      <td>349.00</td>\n",
       "      <td>1.0</td>\n",
       "      <td>349.00</td>\n",
       "    </tr>\n",
       "    <tr>\n",
       "      <th>2935847</th>\n",
       "      <td>22.10.2015</td>\n",
       "      <td>33</td>\n",
       "      <td>25</td>\n",
       "      <td>7440</td>\n",
       "      <td>299.00</td>\n",
       "      <td>1.0</td>\n",
       "      <td>299.00</td>\n",
       "    </tr>\n",
       "    <tr>\n",
       "      <th>2935848</th>\n",
       "      <td>03.10.2015</td>\n",
       "      <td>33</td>\n",
       "      <td>25</td>\n",
       "      <td>7460</td>\n",
       "      <td>299.00</td>\n",
       "      <td>1.0</td>\n",
       "      <td>299.00</td>\n",
       "    </tr>\n",
       "  </tbody>\n",
       "</table>\n",
       "<p>2935849 rows × 7 columns</p>\n",
       "</div>"
      ],
      "text/plain": [
       "               date  date_block_num  shop_id  item_id  item_price  \\\n",
       "0        02.01.2013               0       59    22154      999.00   \n",
       "1        03.01.2013               0       25     2552      899.00   \n",
       "2        05.01.2013               0       25     2552      899.00   \n",
       "3        06.01.2013               0       25     2554     1709.05   \n",
       "4        15.01.2013               0       25     2555     1099.00   \n",
       "...             ...             ...      ...      ...         ...   \n",
       "2935844  10.10.2015              33       25     7409      299.00   \n",
       "2935845  09.10.2015              33       25     7460      299.00   \n",
       "2935846  14.10.2015              33       25     7459      349.00   \n",
       "2935847  22.10.2015              33       25     7440      299.00   \n",
       "2935848  03.10.2015              33       25     7460      299.00   \n",
       "\n",
       "         item_cnt_day  total_turnover  \n",
       "0                 1.0          999.00  \n",
       "1                 1.0          899.00  \n",
       "2                -1.0         -899.00  \n",
       "3                 1.0         1709.05  \n",
       "4                 1.0         1099.00  \n",
       "...               ...             ...  \n",
       "2935844           1.0          299.00  \n",
       "2935845           1.0          299.00  \n",
       "2935846           1.0          349.00  \n",
       "2935847           1.0          299.00  \n",
       "2935848           1.0          299.00  \n",
       "\n",
       "[2935849 rows x 7 columns]"
      ]
     },
     "execution_count": 139,
     "metadata": {},
     "output_type": "execute_result"
    }
   ],
   "source": [
    "data_sale = pd.read_csv('../Python_Practice/Dataset/predict_future_sales/predict_future_sales/sales.csv')\n",
    "data_shop = pd.read_csv('../Python_Practice/Dataset/predict_future_sales/predict_future_sales/shops.csv')\n",
    "data_sale['total_turnover']=data_sale['item_price']*data_sale['item_cnt_day']\n",
    "data_sale\n",
    "#data_shop"
   ]
  },
  {
   "cell_type": "code",
   "execution_count": 4,
   "id": "b607d160",
   "metadata": {},
   "outputs": [
    {
     "name": "stdout",
     "output_type": "stream",
     "text": [
      "<class 'pandas.core.frame.DataFrame'>\n",
      "RangeIndex: 2935849 entries, 0 to 2935848\n",
      "Data columns (total 7 columns):\n",
      " #   Column          Dtype  \n",
      "---  ------          -----  \n",
      " 0   date            object \n",
      " 1   date_block_num  int64  \n",
      " 2   shop_id         int64  \n",
      " 3   item_id         int64  \n",
      " 4   item_price      float64\n",
      " 5   item_cnt_day    float64\n",
      " 6   total_turnover  float64\n",
      "dtypes: float64(3), int64(3), object(1)\n",
      "memory usage: 156.8+ MB\n"
     ]
    },
    {
     "data": {
      "text/plain": [
       "date              0\n",
       "date_block_num    0\n",
       "shop_id           0\n",
       "item_id           0\n",
       "item_price        0\n",
       "item_cnt_day      0\n",
       "total_turnover    0\n",
       "dtype: int64"
      ]
     },
     "execution_count": 4,
     "metadata": {},
     "output_type": "execute_result"
    }
   ],
   "source": [
    "data_sale.describe()\n",
    "data_sale.info()\n",
    "data_sale.isnull().sum()\n",
    "data_sale.isna().sum()"
   ]
  },
  {
   "cell_type": "code",
   "execution_count": 5,
   "id": "991d86b8",
   "metadata": {},
   "outputs": [
    {
     "name": "stdout",
     "output_type": "stream",
     "text": [
      "<class 'pandas.core.frame.DataFrame'>\n",
      "RangeIndex: 60 entries, 0 to 59\n",
      "Data columns (total 2 columns):\n",
      " #   Column     Non-Null Count  Dtype \n",
      "---  ------     --------------  ----- \n",
      " 0   shop_name  60 non-null     object\n",
      " 1   shop_id    60 non-null     int64 \n",
      "dtypes: int64(1), object(1)\n",
      "memory usage: 1.1+ KB\n",
      "<class 'pandas.core.frame.DataFrame'>\n",
      "RangeIndex: 2935849 entries, 0 to 2935848\n",
      "Data columns (total 7 columns):\n",
      " #   Column          Dtype  \n",
      "---  ------          -----  \n",
      " 0   date            object \n",
      " 1   date_block_num  int64  \n",
      " 2   shop_id         int64  \n",
      " 3   item_id         int64  \n",
      " 4   item_price      float64\n",
      " 5   item_cnt_day    float64\n",
      " 6   total_turnover  float64\n",
      "dtypes: float64(3), int64(3), object(1)\n",
      "memory usage: 156.8+ MB\n"
     ]
    }
   ],
   "source": [
    "data_shop.info()\n",
    "\n",
    "data_sale.info()\n",
    "\n"
   ]
  },
  {
   "cell_type": "code",
   "execution_count": 72,
   "id": "bbdf06c0",
   "metadata": {},
   "outputs": [
    {
     "data": {
      "text/html": [
       "<div>\n",
       "<style scoped>\n",
       "    .dataframe tbody tr th:only-of-type {\n",
       "        vertical-align: middle;\n",
       "    }\n",
       "\n",
       "    .dataframe tbody tr th {\n",
       "        vertical-align: top;\n",
       "    }\n",
       "\n",
       "    .dataframe thead th {\n",
       "        text-align: right;\n",
       "    }\n",
       "</style>\n",
       "<table border=\"1\" class=\"dataframe\">\n",
       "  <thead>\n",
       "    <tr style=\"text-align: right;\">\n",
       "      <th></th>\n",
       "      <th>date_block_num</th>\n",
       "      <th>shop_id</th>\n",
       "      <th>shop_name</th>\n",
       "      <th>total_turnover</th>\n",
       "    </tr>\n",
       "  </thead>\n",
       "  <tbody>\n",
       "    <tr>\n",
       "      <th>0</th>\n",
       "      <td>0</td>\n",
       "      <td>0</td>\n",
       "      <td>!Якутск Орджоникидзе, 56 фран</td>\n",
       "      <td>2966412.00</td>\n",
       "    </tr>\n",
       "    <tr>\n",
       "      <th>1</th>\n",
       "      <td>0</td>\n",
       "      <td>1</td>\n",
       "      <td>!Якутск ТЦ \"Центральный\" фран</td>\n",
       "      <td>1527320.00</td>\n",
       "    </tr>\n",
       "    <tr>\n",
       "      <th>2</th>\n",
       "      <td>0</td>\n",
       "      <td>2</td>\n",
       "      <td>Адыгея ТЦ \"Мега\"</td>\n",
       "      <td>1085064.80</td>\n",
       "    </tr>\n",
       "    <tr>\n",
       "      <th>3</th>\n",
       "      <td>0</td>\n",
       "      <td>3</td>\n",
       "      <td>Балашиха ТРК \"Октябрь-Киномир\"</td>\n",
       "      <td>560585.01</td>\n",
       "    </tr>\n",
       "    <tr>\n",
       "      <th>4</th>\n",
       "      <td>0</td>\n",
       "      <td>4</td>\n",
       "      <td>Волжский ТЦ \"Волга Молл\"</td>\n",
       "      <td>1433666.00</td>\n",
       "    </tr>\n",
       "    <tr>\n",
       "      <th>...</th>\n",
       "      <td>...</td>\n",
       "      <td>...</td>\n",
       "      <td>...</td>\n",
       "      <td>...</td>\n",
       "    </tr>\n",
       "    <tr>\n",
       "      <th>1581</th>\n",
       "      <td>33</td>\n",
       "      <td>55</td>\n",
       "      <td>Цифровой склад 1С-Онлайн</td>\n",
       "      <td>1516423.00</td>\n",
       "    </tr>\n",
       "    <tr>\n",
       "      <th>1582</th>\n",
       "      <td>33</td>\n",
       "      <td>56</td>\n",
       "      <td>Чехов ТРЦ \"Карнавал\"</td>\n",
       "      <td>1321063.00</td>\n",
       "    </tr>\n",
       "    <tr>\n",
       "      <th>1583</th>\n",
       "      <td>33</td>\n",
       "      <td>57</td>\n",
       "      <td>Якутск Орджоникидзе, 56</td>\n",
       "      <td>2417292.00</td>\n",
       "    </tr>\n",
       "    <tr>\n",
       "      <th>1584</th>\n",
       "      <td>33</td>\n",
       "      <td>58</td>\n",
       "      <td>Якутск ТЦ \"Центральный\"</td>\n",
       "      <td>1762288.00</td>\n",
       "    </tr>\n",
       "    <tr>\n",
       "      <th>1585</th>\n",
       "      <td>33</td>\n",
       "      <td>59</td>\n",
       "      <td>Ярославль ТЦ \"Альтаир\"</td>\n",
       "      <td>972717.00</td>\n",
       "    </tr>\n",
       "  </tbody>\n",
       "</table>\n",
       "<p>1586 rows × 4 columns</p>\n",
       "</div>"
      ],
      "text/plain": [
       "      date_block_num  shop_id                       shop_name  total_turnover\n",
       "0                  0        0   !Якутск Орджоникидзе, 56 фран      2966412.00\n",
       "1                  0        1   !Якутск ТЦ \"Центральный\" фран      1527320.00\n",
       "2                  0        2                Адыгея ТЦ \"Мега\"      1085064.80\n",
       "3                  0        3  Балашиха ТРК \"Октябрь-Киномир\"       560585.01\n",
       "4                  0        4        Волжский ТЦ \"Волга Молл\"      1433666.00\n",
       "...              ...      ...                             ...             ...\n",
       "1581              33       55        Цифровой склад 1С-Онлайн      1516423.00\n",
       "1582              33       56            Чехов ТРЦ \"Карнавал\"      1321063.00\n",
       "1583              33       57         Якутск Орджоникидзе, 56      2417292.00\n",
       "1584              33       58         Якутск ТЦ \"Центральный\"      1762288.00\n",
       "1585              33       59          Ярославль ТЦ \"Альтаир\"       972717.00\n",
       "\n",
       "[1586 rows x 4 columns]"
      ]
     },
     "execution_count": 72,
     "metadata": {},
     "output_type": "execute_result"
    }
   ],
   "source": [
    "#chọn ngẫu nhiên 3 shop và dùng show doanh thu\n",
    "df = pd.merge(data_sale, data_shop, on='shop_id', how='outer', indicator=True).groupby(by=['date_block_num','shop_id', 'shop_name']).agg({'total_turnover':'sum'})\n",
    "df = df.reset_index()\n",
    "df\n"
   ]
  },
  {
   "cell_type": "markdown",
   "id": "30184c62",
   "metadata": {},
   "source": [
    "Doanh thu của 3 shop ngẫu nhiên"
   ]
  },
  {
   "cell_type": "code",
   "execution_count": 74,
   "id": "6821a01b",
   "metadata": {},
   "outputs": [
    {
     "data": {
      "image/png": "[encoded data removed]",
      "text/plain": [
       "<Figure size 432x288 with 1 Axes>"
      ]
     },
     "metadata": {},
     "output_type": "display_data"
    }
   ],
   "source": [
    "np.random.seed(0)\n",
    "rd_shop = np.random.choice(df.shop_id.unique(), size=3)\n",
    "#rd_shop\n",
    "random_shop_df = df[np.isin(df.shop_id, rd_shop)]\n",
    "#random_shop_df\n",
    "plot = sns.lineplot(x = 'date_block_num', y = 'total_turnover', hue = 'shop_id', data=random_shop_df,)\n"
   ]
  },
  {
   "cell_type": "code",
   "execution_count": 75,
   "id": "fe1b7527",
   "metadata": {},
   "outputs": [
    {
     "data": {
      "text/plain": [
       "array([11484], dtype=int64)"
      ]
     },
     "execution_count": 75,
     "metadata": {},
     "output_type": "execute_result"
    }
   ],
   "source": [
    "#Doanh thu theo thang cua item ngẫu nhiên\n",
    "np.random.seed(0)\n",
    "rd_item = np.random.choice(data_sale.item_id.unique(), size=1)\n",
    "rd_item\n",
    "#data_sale.head()"
   ]
  },
  {
   "cell_type": "code",
   "execution_count": 76,
   "id": "65cd5750",
   "metadata": {},
   "outputs": [
    {
     "data": {
      "text/html": [
       "<div>\n",
       "<style scoped>\n",
       "    .dataframe tbody tr th:only-of-type {\n",
       "        vertical-align: middle;\n",
       "    }\n",
       "\n",
       "    .dataframe tbody tr th {\n",
       "        vertical-align: top;\n",
       "    }\n",
       "\n",
       "    .dataframe thead th {\n",
       "        text-align: right;\n",
       "    }\n",
       "</style>\n",
       "<table border=\"1\" class=\"dataframe\">\n",
       "  <thead>\n",
       "    <tr style=\"text-align: right;\">\n",
       "      <th></th>\n",
       "      <th>date_block_num</th>\n",
       "      <th>item_id</th>\n",
       "      <th>item_cnt_day</th>\n",
       "      <th>total_turnover</th>\n",
       "    </tr>\n",
       "  </thead>\n",
       "  <tbody>\n",
       "    <tr>\n",
       "      <th>4092</th>\n",
       "      <td>0</td>\n",
       "      <td>11484</td>\n",
       "      <td>43.0</td>\n",
       "      <td>6191.0</td>\n",
       "    </tr>\n",
       "    <tr>\n",
       "      <th>12293</th>\n",
       "      <td>1</td>\n",
       "      <td>11484</td>\n",
       "      <td>30.0</td>\n",
       "      <td>4182.0</td>\n",
       "    </tr>\n",
       "    <tr>\n",
       "      <th>20462</th>\n",
       "      <td>2</td>\n",
       "      <td>11484</td>\n",
       "      <td>30.0</td>\n",
       "      <td>4326.0</td>\n",
       "    </tr>\n",
       "    <tr>\n",
       "      <th>28621</th>\n",
       "      <td>3</td>\n",
       "      <td>11484</td>\n",
       "      <td>50.0</td>\n",
       "      <td>5650.0</td>\n",
       "    </tr>\n",
       "    <tr>\n",
       "      <th>36982</th>\n",
       "      <td>4</td>\n",
       "      <td>11484</td>\n",
       "      <td>150.0</td>\n",
       "      <td>14498.4</td>\n",
       "    </tr>\n",
       "  </tbody>\n",
       "</table>\n",
       "</div>"
      ],
      "text/plain": [
       "       date_block_num  item_id  item_cnt_day  total_turnover\n",
       "4092                0    11484          43.0          6191.0\n",
       "12293               1    11484          30.0          4182.0\n",
       "20462               2    11484          30.0          4326.0\n",
       "28621               3    11484          50.0          5650.0\n",
       "36982               4    11484         150.0         14498.4"
      ]
     },
     "execution_count": 76,
     "metadata": {},
     "output_type": "execute_result"
    }
   ],
   "source": [
    "sale_of_item = data_sale.groupby(by=['date_block_num', 'item_id']).agg({'item_cnt_day':sum,'total_turnover':sum}).reset_index()\n",
    "item_df = sale_of_item[sale_of_item.item_id == rd_item[0]]\n",
    "item_df.head()"
   ]
  },
  {
   "cell_type": "code",
   "execution_count": 142,
   "id": "4498cfe8",
   "metadata": {
    "scrolled": true
   },
   "outputs": [
    {
     "data": {
      "text/plain": [
       "Text(0.5, 1.0, 'Số lượng hàng bán ra và doanh thu theo tháng')"
      ]
     },
     "execution_count": 142,
     "metadata": {},
     "output_type": "execute_result"
    },
    {
     "data": {
      "image/png": "[encoded data removed]",
      "text/plain": [
       "<Figure size 576x288 with 2 Axes>"
      ]
     },
     "metadata": {},
     "output_type": "display_data"
    }
   ],
   "source": [
    "fig, ax1 = plt.subplots(figsize=(8,4))\n",
    "sns.set_style('ticks')\n",
    "ax1 = sns.barplot(x='date_block_num', y='item_cnt_day', color = \"b\", data = item_fr)\n",
    "ax1.set_xlabel('Month_block', fontsize=16)\n",
    "\n",
    "ax2 = ax1.twinx()\n",
    "ax2 = sns.pointplot(x='date_block_num', y='total_turnover', color = \"r\", data = item_fr)\n",
    "ax2.set_ylabel('Doanh thu', fontsize=16)\n",
    "\n",
    "ax1.set_title('Số lượng hàng bán ra và doanh thu theo tháng', fontsize=16)\n"
   ]
  },
  {
   "cell_type": "code",
   "execution_count": 79,
   "id": "5c69fdfb",
   "metadata": {},
   "outputs": [
    {
     "data": {
      "text/html": [
       "<div>\n",
       "<style scoped>\n",
       "    .dataframe tbody tr th:only-of-type {\n",
       "        vertical-align: middle;\n",
       "    }\n",
       "\n",
       "    .dataframe tbody tr th {\n",
       "        vertical-align: top;\n",
       "    }\n",
       "\n",
       "    .dataframe thead th {\n",
       "        text-align: right;\n",
       "    }\n",
       "</style>\n",
       "<table border=\"1\" class=\"dataframe\">\n",
       "  <thead>\n",
       "    <tr style=\"text-align: right;\">\n",
       "      <th></th>\n",
       "      <th>date</th>\n",
       "      <th>date_block_num</th>\n",
       "      <th>shop_id</th>\n",
       "      <th>item_id</th>\n",
       "      <th>item_price</th>\n",
       "      <th>item_cnt_day</th>\n",
       "      <th>total_turnover</th>\n",
       "      <th>Year</th>\n",
       "      <th>Month</th>\n",
       "    </tr>\n",
       "  </thead>\n",
       "  <tbody>\n",
       "    <tr>\n",
       "      <th>0</th>\n",
       "      <td>02.01.2013</td>\n",
       "      <td>0</td>\n",
       "      <td>59</td>\n",
       "      <td>22154</td>\n",
       "      <td>999.00</td>\n",
       "      <td>1.0</td>\n",
       "      <td>999.00</td>\n",
       "      <td>2013</td>\n",
       "      <td>01</td>\n",
       "    </tr>\n",
       "    <tr>\n",
       "      <th>1</th>\n",
       "      <td>03.01.2013</td>\n",
       "      <td>0</td>\n",
       "      <td>25</td>\n",
       "      <td>2552</td>\n",
       "      <td>899.00</td>\n",
       "      <td>1.0</td>\n",
       "      <td>899.00</td>\n",
       "      <td>2013</td>\n",
       "      <td>01</td>\n",
       "    </tr>\n",
       "    <tr>\n",
       "      <th>2</th>\n",
       "      <td>05.01.2013</td>\n",
       "      <td>0</td>\n",
       "      <td>25</td>\n",
       "      <td>2552</td>\n",
       "      <td>899.00</td>\n",
       "      <td>-1.0</td>\n",
       "      <td>-899.00</td>\n",
       "      <td>2013</td>\n",
       "      <td>01</td>\n",
       "    </tr>\n",
       "    <tr>\n",
       "      <th>3</th>\n",
       "      <td>06.01.2013</td>\n",
       "      <td>0</td>\n",
       "      <td>25</td>\n",
       "      <td>2554</td>\n",
       "      <td>1709.05</td>\n",
       "      <td>1.0</td>\n",
       "      <td>1709.05</td>\n",
       "      <td>2013</td>\n",
       "      <td>01</td>\n",
       "    </tr>\n",
       "    <tr>\n",
       "      <th>4</th>\n",
       "      <td>15.01.2013</td>\n",
       "      <td>0</td>\n",
       "      <td>25</td>\n",
       "      <td>2555</td>\n",
       "      <td>1099.00</td>\n",
       "      <td>1.0</td>\n",
       "      <td>1099.00</td>\n",
       "      <td>2013</td>\n",
       "      <td>01</td>\n",
       "    </tr>\n",
       "  </tbody>\n",
       "</table>\n",
       "</div>"
      ],
      "text/plain": [
       "         date  date_block_num  shop_id  item_id  item_price  item_cnt_day  \\\n",
       "0  02.01.2013               0       59    22154      999.00           1.0   \n",
       "1  03.01.2013               0       25     2552      899.00           1.0   \n",
       "2  05.01.2013               0       25     2552      899.00          -1.0   \n",
       "3  06.01.2013               0       25     2554     1709.05           1.0   \n",
       "4  15.01.2013               0       25     2555     1099.00           1.0   \n",
       "\n",
       "   total_turnover  Year Month  \n",
       "0          999.00  2013    01  \n",
       "1          899.00  2013    01  \n",
       "2         -899.00  2013    01  \n",
       "3         1709.05  2013    01  \n",
       "4         1099.00  2013    01  "
      ]
     },
     "execution_count": 79,
     "metadata": {},
     "output_type": "execute_result"
    }
   ],
   "source": [
    "data_sale['Year']= data_sale.date.apply(lambda x: x.split('.')[-1])\n",
    "data_sale['Month']= data_sale.date.apply(lambda x: x.split('.')[-2]) \n",
    "data_sale.head()"
   ]
  },
  {
   "cell_type": "code",
   "execution_count": 80,
   "id": "48b9e26f",
   "metadata": {
    "scrolled": true
   },
   "outputs": [
    {
     "data": {
      "text/plain": [
       "0          25\n",
       "1           1\n",
       "2           2\n",
       "3          10\n",
       "4          19\n",
       "           ..\n",
       "1609119    28\n",
       "1609120    37\n",
       "1609121    42\n",
       "1609122    47\n",
       "1609123    50\n",
       "Name: shop_id, Length: 1609124, dtype: int64"
      ]
     },
     "execution_count": 80,
     "metadata": {},
     "output_type": "execute_result"
    }
   ],
   "source": [
    "sale_in_year = data_sale.groupby(by=['Year','Month','item_id','shop_id']).agg({'total_turnover':sum}).reset_index()\n",
    "sale_in_year['shop_id']"
   ]
  },
  {
   "cell_type": "code",
   "execution_count": 81,
   "id": "0a2ed34b",
   "metadata": {},
   "outputs": [],
   "source": [
    "def trendofShop (shop):\n",
    "    listshop = sale_in_year.shop_id.unique()\n",
    "    for shop in listshop:\n",
    "        df_shop = sale_in_year[sale_in_year.shop_id == shop]\n",
    "        chart = sns.lineplot(data = df_shop, x='Month',y='total_turnover', hue = 'Year')\n",
    "        return df_shop, chart"
   ]
  },
  {
   "cell_type": "code",
   "execution_count": 21,
   "id": "6052290e",
   "metadata": {},
   "outputs": [
    {
     "data": {
      "text/plain": [
       "(         Year Month  item_id  shop_id  total_turnover\n",
       " 0        2013    01       19       25            28.0\n",
       " 32       2013    01       32       25         14309.0\n",
       " 65       2013    01       33       25          2495.0\n",
       " 86       2013    01       34       25           298.0\n",
       " 100      2013    01       35       25          4389.0\n",
       " ...       ...   ...      ...      ...             ...\n",
       " 1609063  2015    10    22145       25           199.0\n",
       " 1609077  2015    10    22162       25           349.0\n",
       " 1609089  2015    10    22163       25           676.0\n",
       " 1609104  2015    10    22164       25          1098.0\n",
       " 1609117  2015    10    22167       25           897.0\n",
       " \n",
       " [87977 rows x 5 columns],\n",
       " <AxesSubplot:xlabel='Month', ylabel='total_turnover'>)"
      ]
     },
     "execution_count": 21,
     "metadata": {},
     "output_type": "execute_result"
    },
    {
     "data": {
      "image/png": "[encoded data removed]",
      "text/plain": [
       "<Figure size 432x288 with 1 Axes>"
      ]
     },
     "metadata": {},
     "output_type": "display_data"
    }
   ],
   "source": [
    "trendofShop(19)"
   ]
  },
  {
   "cell_type": "markdown",
   "id": "fe699b19",
   "metadata": {},
   "source": [
    "Trong từng năm\n",
    "shop nào có doanh thu cao nhất\n",
    "tháng nào có doanh thu cao nhất\n",
    "trung bình doanh thu của năm"
   ]
  },
  {
   "cell_type": "code",
   "execution_count": 15,
   "id": "8f0c87b2",
   "metadata": {},
   "outputs": [
    {
     "data": {
      "text/html": [
       "<div>\n",
       "<style scoped>\n",
       "    .dataframe tbody tr th:only-of-type {\n",
       "        vertical-align: middle;\n",
       "    }\n",
       "\n",
       "    .dataframe tbody tr th {\n",
       "        vertical-align: top;\n",
       "    }\n",
       "\n",
       "    .dataframe thead th {\n",
       "        text-align: right;\n",
       "    }\n",
       "</style>\n",
       "<table border=\"1\" class=\"dataframe\">\n",
       "  <thead>\n",
       "    <tr style=\"text-align: right;\">\n",
       "      <th></th>\n",
       "      <th>Year</th>\n",
       "      <th>Month</th>\n",
       "      <th>item_id</th>\n",
       "      <th>shop_id</th>\n",
       "      <th>total_turnover</th>\n",
       "    </tr>\n",
       "  </thead>\n",
       "  <tbody>\n",
       "    <tr>\n",
       "      <th>0</th>\n",
       "      <td>2013</td>\n",
       "      <td>01</td>\n",
       "      <td>19</td>\n",
       "      <td>25</td>\n",
       "      <td>28.0</td>\n",
       "    </tr>\n",
       "    <tr>\n",
       "      <th>1</th>\n",
       "      <td>2013</td>\n",
       "      <td>01</td>\n",
       "      <td>27</td>\n",
       "      <td>1</td>\n",
       "      <td>1890.0</td>\n",
       "    </tr>\n",
       "    <tr>\n",
       "      <th>2</th>\n",
       "      <td>2013</td>\n",
       "      <td>01</td>\n",
       "      <td>27</td>\n",
       "      <td>2</td>\n",
       "      <td>2499.0</td>\n",
       "    </tr>\n",
       "    <tr>\n",
       "      <th>3</th>\n",
       "      <td>2013</td>\n",
       "      <td>01</td>\n",
       "      <td>27</td>\n",
       "      <td>10</td>\n",
       "      <td>1890.0</td>\n",
       "    </tr>\n",
       "    <tr>\n",
       "      <th>4</th>\n",
       "      <td>2013</td>\n",
       "      <td>01</td>\n",
       "      <td>27</td>\n",
       "      <td>19</td>\n",
       "      <td>2499.0</td>\n",
       "    </tr>\n",
       "    <tr>\n",
       "      <th>...</th>\n",
       "      <td>...</td>\n",
       "      <td>...</td>\n",
       "      <td>...</td>\n",
       "      <td>...</td>\n",
       "      <td>...</td>\n",
       "    </tr>\n",
       "    <tr>\n",
       "      <th>1609119</th>\n",
       "      <td>2015</td>\n",
       "      <td>10</td>\n",
       "      <td>22167</td>\n",
       "      <td>28</td>\n",
       "      <td>299.0</td>\n",
       "    </tr>\n",
       "    <tr>\n",
       "      <th>1609120</th>\n",
       "      <td>2015</td>\n",
       "      <td>10</td>\n",
       "      <td>22167</td>\n",
       "      <td>37</td>\n",
       "      <td>299.0</td>\n",
       "    </tr>\n",
       "    <tr>\n",
       "      <th>1609121</th>\n",
       "      <td>2015</td>\n",
       "      <td>10</td>\n",
       "      <td>22167</td>\n",
       "      <td>42</td>\n",
       "      <td>1196.0</td>\n",
       "    </tr>\n",
       "    <tr>\n",
       "      <th>1609122</th>\n",
       "      <td>2015</td>\n",
       "      <td>10</td>\n",
       "      <td>22167</td>\n",
       "      <td>47</td>\n",
       "      <td>299.0</td>\n",
       "    </tr>\n",
       "    <tr>\n",
       "      <th>1609123</th>\n",
       "      <td>2015</td>\n",
       "      <td>10</td>\n",
       "      <td>22167</td>\n",
       "      <td>50</td>\n",
       "      <td>299.0</td>\n",
       "    </tr>\n",
       "  </tbody>\n",
       "</table>\n",
       "<p>1609124 rows × 5 columns</p>\n",
       "</div>"
      ],
      "text/plain": [
       "         Year Month  item_id  shop_id  total_turnover\n",
       "0        2013    01       19       25            28.0\n",
       "1        2013    01       27        1          1890.0\n",
       "2        2013    01       27        2          2499.0\n",
       "3        2013    01       27       10          1890.0\n",
       "4        2013    01       27       19          2499.0\n",
       "...       ...   ...      ...      ...             ...\n",
       "1609119  2015    10    22167       28           299.0\n",
       "1609120  2015    10    22167       37           299.0\n",
       "1609121  2015    10    22167       42          1196.0\n",
       "1609122  2015    10    22167       47           299.0\n",
       "1609123  2015    10    22167       50           299.0\n",
       "\n",
       "[1609124 rows x 5 columns]"
      ]
     },
     "execution_count": 15,
     "metadata": {},
     "output_type": "execute_result"
    }
   ],
   "source": [
    "sale_in_year"
   ]
  },
  {
   "cell_type": "code",
   "execution_count": 134,
   "id": "b001dc39",
   "metadata": {},
   "outputs": [],
   "source": [
    "def find_highest_lowest_sales(df, year):\n",
    "    sales_year_df = df[df.Year == year]\n",
    "    grouped_df = sales_year_df.groupby(by = 'shop_id').agg({'total_turnover': sum}).reset_index()\n",
    "\n",
    "    highest_df = grouped_df[grouped_df.total_turnover == np.max(grouped_df.total_turnover)]\n",
    "    lowest_df = grouped_df[grouped_df.total_turnover == np.min(grouped_df.total_turnover)]\n",
    "    average_sales = np.average(grouped_df.total_turnover)\n",
    "    \n",
    "    return highest_df, lowest_df, average_sales"
   ]
  },
  {
   "cell_type": "code",
   "execution_count": 135,
   "id": "2c4e926a",
   "metadata": {},
   "outputs": [],
   "source": [
    "year_list = sale_in_year.Year.unique()\n",
    "\n",
    "sales = dict()\n",
    "\n",
    "for year in year_list:\n",
    "    highest_df, lowest_df, average_sales = find_highest_lowest_sales(sale_in_year, year)\n",
    "    sales[year] = dict()\n",
    "    sales[year]['highest'] = highest_df\n",
    "    sales[year]['lowest'] = lowest_df\n",
    "    sales[year]['average_sales'] = average_sales"
   ]
  },
  {
   "cell_type": "code",
   "execution_count": 136,
   "id": "7e95f4ca",
   "metadata": {},
   "outputs": [
    {
     "data": {
      "text/plain": [
       "{'2013': {'highest':     shop_id  total_turnover\n",
       "  29       31    8.779965e+07,\n",
       "  'lowest':     shop_id  total_turnover\n",
       "  41       49        380080.0,\n",
       "  'average_sales': 23413937.19192312},\n",
       " '2014': {'highest':     shop_id  total_turnover\n",
       "  26       31     89003722.92,\n",
       "  'lowest':    shop_id  total_turnover\n",
       "  9       13      2128062.18,\n",
       "  'average_sales': 25410914.694528185},\n",
       " '2015': {'highest':     shop_id  total_turnover\n",
       "  20       25     60647017.99,\n",
       "  'lowest':     shop_id  total_turnover\n",
       "  30       36        377714.0,\n",
       "  'average_sales': 15455983.921851747}}"
      ]
     },
     "execution_count": 136,
     "metadata": {},
     "output_type": "execute_result"
    }
   ],
   "source": [
    "sales"
   ]
  },
  {
   "cell_type": "code",
   "execution_count": 137,
   "id": "bbb4f936",
   "metadata": {},
   "outputs": [
    {
     "data": {
      "text/html": [
       "<div>\n",
       "<style scoped>\n",
       "    .dataframe tbody tr th:only-of-type {\n",
       "        vertical-align: middle;\n",
       "    }\n",
       "\n",
       "    .dataframe tbody tr th {\n",
       "        vertical-align: top;\n",
       "    }\n",
       "\n",
       "    .dataframe thead th {\n",
       "        text-align: right;\n",
       "    }\n",
       "</style>\n",
       "<table border=\"1\" class=\"dataframe\">\n",
       "  <thead>\n",
       "    <tr style=\"text-align: right;\">\n",
       "      <th></th>\n",
       "      <th>shop_id</th>\n",
       "      <th>total_turnover</th>\n",
       "    </tr>\n",
       "  </thead>\n",
       "  <tbody>\n",
       "    <tr>\n",
       "      <th>9</th>\n",
       "      <td>13</td>\n",
       "      <td>2128062.18</td>\n",
       "    </tr>\n",
       "  </tbody>\n",
       "</table>\n",
       "</div>"
      ],
      "text/plain": [
       "   shop_id  total_turnover\n",
       "9       13      2128062.18"
      ]
     },
     "execution_count": 137,
     "metadata": {},
     "output_type": "execute_result"
    }
   ],
   "source": [
    "sales['2014']['lowest']"
   ]
  },
  {
   "cell_type": "code",
   "execution_count": 144,
   "id": "17f26082",
   "metadata": {},
   "outputs": [
    {
     "data": {
      "text/html": [
       "<div>\n",
       "<style scoped>\n",
       "    .dataframe tbody tr th:only-of-type {\n",
       "        vertical-align: middle;\n",
       "    }\n",
       "\n",
       "    .dataframe tbody tr th {\n",
       "        vertical-align: top;\n",
       "    }\n",
       "\n",
       "    .dataframe thead th {\n",
       "        text-align: right;\n",
       "    }\n",
       "</style>\n",
       "<table border=\"1\" class=\"dataframe\">\n",
       "  <thead>\n",
       "    <tr style=\"text-align: right;\">\n",
       "      <th></th>\n",
       "      <th>shop_id</th>\n",
       "      <th>total_turnover</th>\n",
       "    </tr>\n",
       "  </thead>\n",
       "  <tbody>\n",
       "    <tr>\n",
       "      <th>29</th>\n",
       "      <td>31</td>\n",
       "      <td>8.779965e+07</td>\n",
       "    </tr>\n",
       "  </tbody>\n",
       "</table>\n",
       "</div>"
      ],
      "text/plain": [
       "    shop_id  total_turnover\n",
       "29       31    8.779965e+07"
      ]
     },
     "execution_count": 144,
     "metadata": {},
     "output_type": "execute_result"
    }
   ],
   "source": [
    "sales['2013']['highest']"
   ]
  },
  {
   "cell_type": "code",
   "execution_count": null,
   "id": "b77e623e",
   "metadata": {},
   "outputs": [],
   "source": []
  },
  {
   "cell_type": "code",
   "execution_count": null,
   "id": "89e10ba9",
   "metadata": {},
   "outputs": [],
   "source": []
  }
 ],
 "metadata": {
  "kernelspec": {
   "display_name": "Python 3 (ipykernel)",
   "language": "python",
   "name": "python3"
  },
  "language_info": {
   "codemirror_mode": {
    "name": "ipython",
    "version": 3
   },
   "file_extension": ".py",
   "mimetype": "text/x-python",
   "name": "python",
   "nbconvert_exporter": "python",
   "pygments_lexer": "ipython3",
   "version": "3.9.7"
  }
 },
 "nbformat": 4,
 "nbformat_minor": 5
}
